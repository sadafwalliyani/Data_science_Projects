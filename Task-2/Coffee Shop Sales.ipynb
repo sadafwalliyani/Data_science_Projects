{
 "cells": [
  {
   "cell_type": "markdown",
   "metadata": {},
   "source": [
    "# TASK # \n",
    "Assigned: 5-0-2024 \n",
    "\n",
    "Submission date: 30-07-2024\n",
    "\n",
    "Topic: Coffee Shop Sales\n",
    "\n",
    "Objective: Clean and analyze the provided dataset to determine the profitability of products/services.\n",
    "- Identify strategies to increase profit margins or mitigate losses based on the analysis. "
   ]
  },
  {
   "cell_type": "markdown",
   "metadata": {},
   "source": [
    "# 1. Data Cleaning and Exploration:\n"
   ]
  },
  {
   "cell_type": "markdown",
   "metadata": {},
   "source": [
    "1.1 Clean the data: Identify and handle missing values, inconsistencies,\n",
    "and outliers."
   ]
  },
  {
   "cell_type": "code",
   "execution_count": 3,
   "metadata": {},
   "outputs": [],
   "source": [
    "import numpy as np\n",
    "import pandas as pd"
   ]
  },
  {
   "cell_type": "code",
   "execution_count": 8,
   "metadata": {},
   "outputs": [],
   "source": [
    "# Load the Excel file\n",
    "file_path = r'D:\\Data_science_Projects\\Task-\\Coffee Shop Sales.xlsx'\n",
    "xls = pd.ExcelFile(file_path)\n",
    "\n"
   ]
  },
  {
   "cell_type": "code",
   "execution_count": 6,
   "metadata": {},
   "outputs": [
    {
     "data": {
      "text/plain": [
       "(   transaction_id transaction_date transaction_time  transaction_qty  \\\n",
       " 0               1       2023-01-01         07:06:11                2   \n",
       " 1               2       2023-01-01         07:08:56                2   \n",
       " 2               3       2023-01-01         07:14:04                2   \n",
       " 3               4       2023-01-01         07:20:24                1   \n",
       " 4               5       2023-01-01         07:22:41                2   \n",
       " \n",
       "    store_id   store_location  product_id  unit_price    product_category  \\\n",
       " 0         5  Lower Manhattan          32         3.0              Coffee   \n",
       " 1         5  Lower Manhattan          57         3.1                 Tea   \n",
       " 2         5  Lower Manhattan          59         4.5  Drinking Chocolate   \n",
       " 3         5  Lower Manhattan          22         2.0              Coffee   \n",
       " 4         5  Lower Manhattan          57         3.1                 Tea   \n",
       " \n",
       "             product_type               product_detail  \n",
       " 0  Gourmet brewed coffee                  Ethiopia Rg  \n",
       " 1        Brewed Chai tea     Spicy Eye Opener Chai Lg  \n",
       " 2          Hot chocolate            Dark chocolate Lg  \n",
       " 3            Drip coffee  Our Old Time Diner Blend Sm  \n",
       " 4        Brewed Chai tea     Spicy Eye Opener Chai Lg  ,\n",
       "    product_id  unit_price\n",
       " 0         1.0       18.00\n",
       " 1         2.0       18.00\n",
       " 2         3.0       14.75\n",
       " 3         4.0       20.45\n",
       " 4         5.0       15.00,\n",
       "    product_id  unit_price\n",
       " 0           8        45.0\n",
       " 1           9        28.0\n",
       " 2          81        28.0\n",
       " 3           9        23.0\n",
       " 4           9        22.5)"
      ]
     },
     "execution_count": 6,
     "metadata": {},
     "output_type": "execute_result"
    }
   ],
   "source": [
    "# Load the sheets into separate dataframes\n",
    "transactions_df = pd.read_excel(xls, sheet_name='Transactions')\n",
    "sheet1_df = pd.read_excel(xls, sheet_name='Sheet1')\n",
    "sheet6_df = pd.read_excel(xls, sheet_name='Sheet6')\n",
    "\n",
    "# Display the first few rows of each sheet\n",
    "transactions_preview = transactions_df.head()\n",
    "sheet1_preview = sheet1_df.head()\n",
    "sheet6_preview = sheet6_df.head()\n",
    "\n",
    "transactions_preview, sheet1_preview, sheet6_preview\n"
   ]
  },
  {
   "cell_type": "code",
   "execution_count": 9,
   "metadata": {},
   "outputs": [
    {
     "data": {
      "text/plain": [
       "(transaction_id      0\n",
       " transaction_date    0\n",
       " transaction_time    0\n",
       " transaction_qty     0\n",
       " store_id            0\n",
       " store_location      0\n",
       " product_id          0\n",
       " unit_price          0\n",
       " product_category    0\n",
       " product_type        0\n",
       " product_detail      0\n",
       " dtype: int64,\n",
       " 0,\n",
       " transaction_id               int64\n",
       " transaction_date    datetime64[ns]\n",
       " transaction_time            object\n",
       " transaction_qty              int64\n",
       " store_id                     int64\n",
       " store_location              object\n",
       " product_id                   int64\n",
       " unit_price                 float64\n",
       " product_category            object\n",
       " product_type                object\n",
       " product_detail              object\n",
       " dtype: object,\n",
       "         transaction_id               transaction_date transaction_time  \\\n",
       " count    149116.000000                         149116           149116   \n",
       " unique             NaN                            NaN            25762   \n",
       " top                NaN                            NaN         09:31:15   \n",
       " freq               NaN                            NaN               41   \n",
       " mean      74737.371872  2023-04-15 11:50:32.173609984              NaN   \n",
       " min           1.000000            2023-01-01 00:00:00              NaN   \n",
       " 25%       37335.750000            2023-03-06 00:00:00              NaN   \n",
       " 50%       74727.500000            2023-04-24 00:00:00              NaN   \n",
       " 75%      112094.250000            2023-05-30 00:00:00              NaN   \n",
       " max      149456.000000            2023-06-30 00:00:00              NaN   \n",
       " std       43153.600016                            NaN              NaN   \n",
       " \n",
       "         transaction_qty       store_id  store_location     product_id  \\\n",
       " count     149116.000000  149116.000000          149116  149116.000000   \n",
       " unique              NaN            NaN               3            NaN   \n",
       " top                 NaN            NaN  Hell's Kitchen            NaN   \n",
       " freq                NaN            NaN           50735            NaN   \n",
       " mean           1.438276       5.342063             NaN      47.918607   \n",
       " min            1.000000       3.000000             NaN       1.000000   \n",
       " 25%            1.000000       3.000000             NaN      33.000000   \n",
       " 50%            1.000000       5.000000             NaN      47.000000   \n",
       " 75%            2.000000       8.000000             NaN      60.000000   \n",
       " max            8.000000       8.000000             NaN      87.000000   \n",
       " std            0.542509       2.074241             NaN      17.930020   \n",
       " \n",
       "            unit_price product_category     product_type       product_detail  \n",
       " count   149116.000000           149116           149116               149116  \n",
       " unique            NaN                9               29                   80  \n",
       " top               NaN           Coffee  Brewed Chai tea  Chocolate Croissant  \n",
       " freq              NaN            58416            17183                 3076  \n",
       " mean         3.382219              NaN              NaN                  NaN  \n",
       " min          0.800000              NaN              NaN                  NaN  \n",
       " 25%          2.500000              NaN              NaN                  NaN  \n",
       " 50%          3.000000              NaN              NaN                  NaN  \n",
       " 75%          3.750000              NaN              NaN                  NaN  \n",
       " max         45.000000              NaN              NaN                  NaN  \n",
       " std          2.658723              NaN              NaN                  NaN  )"
      ]
     },
     "execution_count": 9,
     "metadata": {},
     "output_type": "execute_result"
    }
   ],
   "source": [
    "# Check for missing values and duplicates in the 'Transactions' sheet\n",
    "missing_values = transactions_df.isnull().sum()\n",
    "duplicates = transactions_df.duplicated().sum()\n",
    "\n",
    "# Get a summary of data types and basic statistics to detect any inconsistencies\n",
    "data_types = transactions_df.dtypes\n",
    "basic_stats = transactions_df.describe(include='all')\n",
    "\n",
    "missing_values, duplicates, data_types, basic_stats\n"
   ]
  },
  {
   "cell_type": "code",
   "execution_count": 10,
   "metadata": {},
   "outputs": [
    {
     "data": {
      "text/plain": [
       "(11205, 11205)"
      ]
     },
     "execution_count": 10,
     "metadata": {},
     "output_type": "execute_result"
    }
   ],
   "source": [
    "# Merging the 'Transactions' data with 'Sheet1' and 'Sheet6' based on 'product_id' to check for price discrepancies\n",
    "merged_with_sheet1 = transactions_df.merge(sheet1_df, on='product_id', suffixes=('', '_sheet1'), how='left')\n",
    "merged_with_sheet6 = transactions_df.merge(sheet6_df, on='product_id', suffixes=('', '_sheet6'), how='left')\n",
    "\n",
    "# Check for discrepancies between 'unit_price' in 'Transactions' and those in 'Sheet1' and 'Sheet6'\n",
    "sheet1_discrepancies = merged_with_sheet1[merged_with_sheet1['unit_price'] != merged_with_sheet1['unit_price_sheet1']]\n",
    "sheet6_discrepancies = merged_with_sheet6[merged_with_sheet6['unit_price'] != merged_with_sheet6['unit_price_sheet6']]\n",
    "\n",
    "# Count discrepancies\n",
    "sheet1_discrepancy_count = sheet1_discrepancies.shape[0]\n",
    "sheet6_discrepancy_count = sheet6_discrepancies.shape[0]\n",
    "\n",
    "sheet1_discrepancy_count, sheet6_discrepancy_count\n"
   ]
  },
  {
   "cell_type": "markdown",
   "metadata": {},
   "source": [
    "2. Profit/Loss Analysis"
   ]
  },
  {
   "cell_type": "markdown",
   "metadata": {},
   "source": [
    "2.1 Calculate Profit for Each Transaction\n",
    "Assuming we have a cost_price associated with each product, calculate the profit for each transaction."
   ]
  },
  {
   "cell_type": "markdown",
   "metadata": {},
   "source": [
    "Calculate Profit:"
   ]
  },
  {
   "cell_type": "code",
   "execution_count": 12,
   "metadata": {},
   "outputs": [
    {
     "data": {
      "text/html": [
       "<div>\n",
       "<style scoped>\n",
       "    .dataframe tbody tr th:only-of-type {\n",
       "        vertical-align: middle;\n",
       "    }\n",
       "\n",
       "    .dataframe tbody tr th {\n",
       "        vertical-align: top;\n",
       "    }\n",
       "\n",
       "    .dataframe thead th {\n",
       "        text-align: right;\n",
       "    }\n",
       "</style>\n",
       "<table border=\"1\" class=\"dataframe\">\n",
       "  <thead>\n",
       "    <tr style=\"text-align: right;\">\n",
       "      <th></th>\n",
       "      <th>product_id</th>\n",
       "      <th>profit</th>\n",
       "    </tr>\n",
       "  </thead>\n",
       "  <tbody>\n",
       "    <tr>\n",
       "      <th>0</th>\n",
       "      <td>1</td>\n",
       "      <td>214.0</td>\n",
       "    </tr>\n",
       "    <tr>\n",
       "      <th>1</th>\n",
       "      <td>2</td>\n",
       "      <td>183.0</td>\n",
       "    </tr>\n",
       "    <tr>\n",
       "      <th>2</th>\n",
       "      <td>3</td>\n",
       "      <td>169.0</td>\n",
       "    </tr>\n",
       "    <tr>\n",
       "      <th>3</th>\n",
       "      <td>4</td>\n",
       "      <td>150.0</td>\n",
       "    </tr>\n",
       "    <tr>\n",
       "      <th>4</th>\n",
       "      <td>5</td>\n",
       "      <td>148.0</td>\n",
       "    </tr>\n",
       "    <tr>\n",
       "      <th>...</th>\n",
       "      <td>...</td>\n",
       "      <td>...</td>\n",
       "    </tr>\n",
       "    <tr>\n",
       "      <th>75</th>\n",
       "      <td>81</td>\n",
       "      <td>221.0</td>\n",
       "    </tr>\n",
       "    <tr>\n",
       "      <th>76</th>\n",
       "      <td>82</td>\n",
       "      <td>240.0</td>\n",
       "    </tr>\n",
       "    <tr>\n",
       "      <th>77</th>\n",
       "      <td>83</td>\n",
       "      <td>315.0</td>\n",
       "    </tr>\n",
       "    <tr>\n",
       "      <th>78</th>\n",
       "      <td>84</td>\n",
       "      <td>2658.0</td>\n",
       "    </tr>\n",
       "    <tr>\n",
       "      <th>79</th>\n",
       "      <td>87</td>\n",
       "      <td>3262.0</td>\n",
       "    </tr>\n",
       "  </tbody>\n",
       "</table>\n",
       "<p>80 rows × 2 columns</p>\n",
       "</div>"
      ],
      "text/plain": [
       "    product_id  profit\n",
       "0            1   214.0\n",
       "1            2   183.0\n",
       "2            3   169.0\n",
       "3            4   150.0\n",
       "4            5   148.0\n",
       "..         ...     ...\n",
       "75          81   221.0\n",
       "76          82   240.0\n",
       "77          83   315.0\n",
       "78          84  2658.0\n",
       "79          87  3262.0\n",
       "\n",
       "[80 rows x 2 columns]"
      ]
     },
     "execution_count": 12,
     "metadata": {},
     "output_type": "execute_result"
    }
   ],
   "source": [
    "# Add a cost price column to the merged data, or you could merge it if it's in a different sheet.\n",
    "merged_with_cost = merged_with_sheet1  # Assuming the cost price is in 'Sheet1'\n",
    "merged_with_cost['cost_price'] = merged_with_cost['unit_price'] - 1  # Example calculation\n",
    "\n",
    "# Calculate profit per transaction\n",
    "merged_with_cost['profit'] = (merged_with_cost['unit_price'] - merged_with_cost['cost_price']) * merged_with_cost['transaction_qty']\n",
    "\n",
    "# Summarize profit by product\n",
    "profit_by_product = merged_with_cost.groupby('product_id')['profit'].sum().reset_index()\n",
    "\n",
    "profit_by_product\n"
   ]
  },
  {
   "cell_type": "markdown",
   "metadata": {},
   "source": [
    "2.2 Visualize Sales Data:\n",
    "Use a bar chart to visualize sales data.\n"
   ]
  },
  {
   "cell_type": "code",
   "execution_count": 14,
   "metadata": {},
   "outputs": [
    {
     "data": {
      "image/png": "[encoded data removed]",
      "text/plain": [
       "<Figure size 1000x600 with 1 Axes>"
      ]
     },
     "metadata": {},
     "output_type": "display_data"
    }
   ],
   "source": [
    "import matplotlib.pyplot as plt\n",
    "\n",
    "# Visualizing total sales by product\n",
    "total_sales_by_product = merged_with_cost.groupby('product_id')['unit_price'].sum().reset_index()\n",
    "\n",
    "plt.figure(figsize=(10, 6))\n",
    "plt.bar(total_sales_by_product['product_id'], total_sales_by_product['unit_price'])\n",
    "plt.xlabel('Product ID')\n",
    "plt.ylabel('Total Sales')\n",
    "plt.title('Total Sales by Product')\n",
    "plt.show()\n",
    "# A bar chart showing total sales by product ID, helping identify top-selling products."
   ]
  },
  {
   "cell_type": "code",
   "execution_count": 16,
   "metadata": {},
   "outputs": [
    {
     "name": "stdout",
     "output_type": "stream",
     "text": [
      "Collecting statsmodels\n",
      "  Downloading statsmodels-0.14.2-cp312-cp312-win_amd64.whl.metadata (9.5 kB)\n",
      "Requirement already satisfied: numpy>=1.22.3 in c:\\users\\sadaf\\appdata\\local\\pypoetry\\cache\\virtualenvs\\app-vssnziao-py3.12\\lib\\site-packages (from statsmodels) (1.26.4)\n",
      "Requirement already satisfied: scipy!=1.9.2,>=1.8 in c:\\users\\sadaf\\appdata\\local\\pypoetry\\cache\\virtualenvs\\app-vssnziao-py3.12\\lib\\site-packages (from statsmodels) (1.14.0)\n",
      "Requirement already satisfied: pandas!=2.1.0,>=1.4 in c:\\users\\sadaf\\appdata\\local\\pypoetry\\cache\\virtualenvs\\app-vssnziao-py3.12\\lib\\site-packages (from statsmodels) (2.2.2)\n",
      "Collecting patsy>=0.5.6 (from statsmodels)\n",
      "  Downloading patsy-0.5.6-py2.py3-none-any.whl.metadata (3.5 kB)\n",
      "Requirement already satisfied: packaging>=21.3 in c:\\users\\sadaf\\appdata\\local\\pypoetry\\cache\\virtualenvs\\app-vssnziao-py3.12\\lib\\site-packages (from statsmodels) (23.2)\n",
      "Requirement already satisfied: python-dateutil>=2.8.2 in c:\\users\\sadaf\\appdata\\local\\pypoetry\\cache\\virtualenvs\\app-vssnziao-py3.12\\lib\\site-packages (from pandas!=2.1.0,>=1.4->statsmodels) (2.9.0.post0)\n",
      "Requirement already satisfied: pytz>=2020.1 in c:\\users\\sadaf\\appdata\\local\\pypoetry\\cache\\virtualenvs\\app-vssnziao-py3.12\\lib\\site-packages (from pandas!=2.1.0,>=1.4->statsmodels) (2024.1)\n",
      "Requirement already satisfied: tzdata>=2022.7 in c:\\users\\sadaf\\appdata\\local\\pypoetry\\cache\\virtualenvs\\app-vssnziao-py3.12\\lib\\site-packages (from pandas!=2.1.0,>=1.4->statsmodels) (2024.1)\n",
      "Requirement already satisfied: six in c:\\users\\sadaf\\appdata\\local\\pypoetry\\cache\\virtualenvs\\app-vssnziao-py3.12\\lib\\site-packages (from patsy>=0.5.6->statsmodels) (1.16.0)\n",
      "Downloading statsmodels-0.14.2-cp312-cp312-win_amd64.whl (9.8 MB)\n",
      "   ---------------------------------------- 0.0/9.8 MB ? eta -:--:--\n",
      "   ---------------------------------------- 0.0/9.8 MB 1.3 MB/s eta 0:00:08\n",
      "   ---------------------------------------- 0.0/9.8 MB 1.3 MB/s eta 0:00:08\n",
      "   ---------------------------------------- 0.1/9.8 MB 327.7 kB/s eta 0:00:30\n",
      "   ---------------------------------------- 0.1/9.8 MB 491.5 kB/s eta 0:00:20\n",
      "   ---------------------------------------- 0.1/9.8 MB 544.7 kB/s eta 0:00:18\n",
      "    --------------------------------------- 0.2/9.8 MB 538.9 kB/s eta 0:00:18\n",
      "    --------------------------------------- 0.2/9.8 MB 758.5 kB/s eta 0:00:13\n",
      "   - -------------------------------------- 0.3/9.8 MB 714.4 kB/s eta 0:00:14\n",
      "   - -------------------------------------- 0.3/9.8 MB 707.1 kB/s eta 0:00:14\n",
      "   - -------------------------------------- 0.4/9.8 MB 794.9 kB/s eta 0:00:12\n",
      "   - -------------------------------------- 0.4/9.8 MB 834.5 kB/s eta 0:00:12\n",
      "   - -------------------------------------- 0.4/9.8 MB 754.1 kB/s eta 0:00:13\n",
      "   - -------------------------------------- 0.5/9.8 MB 741.3 kB/s eta 0:00:13\n",
      "   - -------------------------------------- 0.5/9.8 MB 772.2 kB/s eta 0:00:13\n",
      "   -- ------------------------------------- 0.6/9.8 MB 848.4 kB/s eta 0:00:11\n",
      "   -- ------------------------------------- 0.7/9.8 MB 911.5 kB/s eta 0:00:11\n",
      "   --- ------------------------------------ 0.8/9.8 MB 1.1 MB/s eta 0:00:09\n",
      "   --- ------------------------------------ 1.0/9.8 MB 1.2 MB/s eta 0:00:08\n",
      "   ---- ----------------------------------- 1.2/9.8 MB 1.4 MB/s eta 0:00:07\n",
      "   ----- ---------------------------------- 1.3/9.8 MB 1.4 MB/s eta 0:00:06\n",
      "   ------ --------------------------------- 1.6/9.8 MB 1.6 MB/s eta 0:00:06\n",
      "   ------- -------------------------------- 1.8/9.8 MB 1.8 MB/s eta 0:00:05\n",
      "   ------- -------------------------------- 1.8/9.8 MB 1.7 MB/s eta 0:00:05\n",
      "   -------- ------------------------------- 2.1/9.8 MB 1.9 MB/s eta 0:00:05\n",
      "   --------- ------------------------------ 2.3/9.8 MB 2.0 MB/s eta 0:00:04\n",
      "   ---------- ----------------------------- 2.5/9.8 MB 2.1 MB/s eta 0:00:04\n",
      "   ---------- ----------------------------- 2.7/9.8 MB 2.2 MB/s eta 0:00:04\n",
      "   ----------- ---------------------------- 2.9/9.8 MB 2.3 MB/s eta 0:00:04\n",
      "   ------------ --------------------------- 3.2/9.8 MB 2.4 MB/s eta 0:00:03\n",
      "   ------------- -------------------------- 3.3/9.8 MB 2.5 MB/s eta 0:00:03\n",
      "   ------------- -------------------------- 3.3/9.8 MB 2.5 MB/s eta 0:00:03\n",
      "   ------------- -------------------------- 3.3/9.8 MB 2.5 MB/s eta 0:00:03\n",
      "   ------------- -------------------------- 3.3/9.8 MB 2.5 MB/s eta 0:00:03\n",
      "   ------------- -------------------------- 3.4/9.8 MB 2.2 MB/s eta 0:00:03\n",
      "   -------------- ------------------------- 3.5/9.8 MB 2.2 MB/s eta 0:00:03\n",
      "   -------------- ------------------------- 3.6/9.8 MB 2.2 MB/s eta 0:00:03\n",
      "   -------------- ------------------------- 3.7/9.8 MB 2.1 MB/s eta 0:00:03\n",
      "   -------------- ------------------------- 3.7/9.8 MB 2.1 MB/s eta 0:00:03\n",
      "   --------------- ------------------------ 3.7/9.8 MB 2.1 MB/s eta 0:00:03\n",
      "   --------------- ------------------------ 3.8/9.8 MB 2.0 MB/s eta 0:00:03\n",
      "   --------------- ------------------------ 3.8/9.8 MB 2.0 MB/s eta 0:00:03\n",
      "   --------------- ------------------------ 3.8/9.8 MB 2.0 MB/s eta 0:00:04\n",
      "   --------------- ------------------------ 3.9/9.8 MB 2.0 MB/s eta 0:00:04\n",
      "   --------------- ------------------------ 3.9/9.8 MB 1.9 MB/s eta 0:00:04\n",
      "   ---------------- ----------------------- 3.9/9.8 MB 1.9 MB/s eta 0:00:04\n",
      "   ---------------- ----------------------- 4.2/9.8 MB 2.0 MB/s eta 0:00:03\n",
      "   ----------------- ---------------------- 4.4/9.8 MB 2.0 MB/s eta 0:00:03\n",
      "   ------------------ --------------------- 4.7/9.8 MB 2.1 MB/s eta 0:00:03\n",
      "   ------------------- -------------------- 4.8/9.8 MB 2.1 MB/s eta 0:00:03\n",
      "   -------------------- ------------------- 4.9/9.8 MB 2.1 MB/s eta 0:00:03\n",
      "   -------------------- ------------------- 5.0/9.8 MB 2.1 MB/s eta 0:00:03\n",
      "   -------------------- ------------------- 5.0/9.8 MB 2.1 MB/s eta 0:00:03\n",
      "   -------------------- ------------------- 5.0/9.8 MB 2.0 MB/s eta 0:00:03\n",
      "   -------------------- ------------------- 5.0/9.8 MB 2.0 MB/s eta 0:00:03\n",
      "   -------------------- ------------------- 5.0/9.8 MB 2.0 MB/s eta 0:00:03\n",
      "   --------------------- ------------------ 5.3/9.8 MB 2.0 MB/s eta 0:00:03\n",
      "   --------------------- ------------------ 5.3/9.8 MB 2.0 MB/s eta 0:00:03\n",
      "   ---------------------- ----------------- 5.4/9.8 MB 2.0 MB/s eta 0:00:03\n",
      "   ---------------------- ----------------- 5.4/9.8 MB 2.0 MB/s eta 0:00:03\n",
      "   ---------------------- ----------------- 5.4/9.8 MB 2.0 MB/s eta 0:00:03\n",
      "   ---------------------- ----------------- 5.4/9.8 MB 2.0 MB/s eta 0:00:03\n",
      "   ---------------------- ----------------- 5.4/9.8 MB 2.0 MB/s eta 0:00:03\n",
      "   ---------------------- ----------------- 5.4/9.8 MB 2.0 MB/s eta 0:00:03\n",
      "   ---------------------- ----------------- 5.4/9.8 MB 2.0 MB/s eta 0:00:03\n",
      "   ---------------------- ----------------- 5.4/9.8 MB 2.0 MB/s eta 0:00:03\n",
      "   ---------------------- ----------------- 5.4/9.8 MB 2.0 MB/s eta 0:00:03\n",
      "   ---------------------- ----------------- 5.4/9.8 MB 2.0 MB/s eta 0:00:03\n",
      "   ---------------------- ----------------- 5.4/9.8 MB 2.0 MB/s eta 0:00:03\n",
      "   ---------------------- ----------------- 5.4/9.8 MB 2.0 MB/s eta 0:00:03\n",
      "   ---------------------- ----------------- 5.4/9.8 MB 2.0 MB/s eta 0:00:03\n",
      "   ---------------------- ----------------- 5.4/9.8 MB 1.6 MB/s eta 0:00:03\n",
      "   ---------------------- ----------------- 5.6/9.8 MB 1.7 MB/s eta 0:00:03\n",
      "   ---------------------- ----------------- 5.6/9.8 MB 1.7 MB/s eta 0:00:03\n",
      "   ---------------------- ----------------- 5.6/9.8 MB 1.7 MB/s eta 0:00:03\n",
      "   ---------------------- ----------------- 5.6/9.8 MB 1.6 MB/s eta 0:00:03\n",
      "   ----------------------- ---------------- 5.7/9.8 MB 1.6 MB/s eta 0:00:03\n",
      "   ----------------------- ---------------- 5.7/9.8 MB 1.6 MB/s eta 0:00:03\n",
      "   ----------------------- ---------------- 5.8/9.8 MB 1.6 MB/s eta 0:00:03\n",
      "   ----------------------- ---------------- 5.9/9.8 MB 1.6 MB/s eta 0:00:03\n",
      "   ------------------------ --------------- 6.0/9.8 MB 1.6 MB/s eta 0:00:03\n",
      "   ------------------------ --------------- 6.0/9.8 MB 1.6 MB/s eta 0:00:03\n",
      "   ------------------------ --------------- 6.1/9.8 MB 1.6 MB/s eta 0:00:03\n",
      "   ------------------------ --------------- 6.1/9.8 MB 1.6 MB/s eta 0:00:03\n",
      "   ------------------------ --------------- 6.1/9.8 MB 1.6 MB/s eta 0:00:03\n",
      "   ------------------------- -------------- 6.2/9.8 MB 1.6 MB/s eta 0:00:03\n",
      "   ------------------------- -------------- 6.2/9.8 MB 1.6 MB/s eta 0:00:03\n",
      "   ------------------------- -------------- 6.3/9.8 MB 1.6 MB/s eta 0:00:03\n",
      "   ------------------------- -------------- 6.3/9.8 MB 1.5 MB/s eta 0:00:03\n",
      "   ------------------------- -------------- 6.3/9.8 MB 1.5 MB/s eta 0:00:03\n",
      "   ------------------------- -------------- 6.4/9.8 MB 1.5 MB/s eta 0:00:03\n",
      "   -------------------------- ------------- 6.4/9.8 MB 1.5 MB/s eta 0:00:03\n",
      "   -------------------------- ------------- 6.5/9.8 MB 1.5 MB/s eta 0:00:03\n",
      "   -------------------------- ------------- 6.5/9.8 MB 1.5 MB/s eta 0:00:03\n",
      "   -------------------------- ------------- 6.6/9.8 MB 1.5 MB/s eta 0:00:03\n",
      "   --------------------------- ------------ 6.7/9.8 MB 1.5 MB/s eta 0:00:03\n",
      "   --------------------------- ------------ 6.7/9.8 MB 1.5 MB/s eta 0:00:03\n",
      "   --------------------------- ------------ 6.7/9.8 MB 1.5 MB/s eta 0:00:03\n",
      "   --------------------------- ------------ 6.8/9.8 MB 1.5 MB/s eta 0:00:03\n",
      "   --------------------------- ------------ 6.8/9.8 MB 1.5 MB/s eta 0:00:03\n",
      "   ---------------------------- ----------- 6.9/9.8 MB 1.5 MB/s eta 0:00:02\n",
      "   ---------------------------- ----------- 7.0/9.8 MB 1.5 MB/s eta 0:00:02\n",
      "   ---------------------------- ----------- 7.1/9.8 MB 1.5 MB/s eta 0:00:02\n",
      "   ----------------------------- ---------- 7.1/9.8 MB 1.5 MB/s eta 0:00:02\n",
      "   ----------------------------- ---------- 7.2/9.8 MB 1.5 MB/s eta 0:00:02\n",
      "   ----------------------------- ---------- 7.3/9.8 MB 1.5 MB/s eta 0:00:02\n",
      "   ------------------------------ --------- 7.4/9.8 MB 1.5 MB/s eta 0:00:02\n",
      "   ------------------------------ --------- 7.6/9.8 MB 1.5 MB/s eta 0:00:02\n",
      "   ------------------------------- -------- 7.6/9.8 MB 1.5 MB/s eta 0:00:02\n",
      "   ------------------------------- -------- 7.8/9.8 MB 1.5 MB/s eta 0:00:02\n",
      "   ------------------------------- -------- 7.8/9.8 MB 1.5 MB/s eta 0:00:02\n",
      "   -------------------------------- ------- 7.9/9.8 MB 1.5 MB/s eta 0:00:02\n",
      "   -------------------------------- ------- 8.1/9.8 MB 1.5 MB/s eta 0:00:02\n",
      "   --------------------------------- ------ 8.2/9.8 MB 1.6 MB/s eta 0:00:02\n",
      "   --------------------------------- ------ 8.2/9.8 MB 1.5 MB/s eta 0:00:02\n",
      "   ---------------------------------- ----- 8.4/9.8 MB 1.6 MB/s eta 0:00:01\n",
      "   ---------------------------------- ----- 8.4/9.8 MB 1.6 MB/s eta 0:00:01\n",
      "   ---------------------------------- ----- 8.5/9.8 MB 1.6 MB/s eta 0:00:01\n",
      "   ----------------------------------- ---- 8.6/9.8 MB 1.6 MB/s eta 0:00:01\n",
      "   ----------------------------------- ---- 8.6/9.8 MB 1.6 MB/s eta 0:00:01\n",
      "   ----------------------------------- ---- 8.6/9.8 MB 1.6 MB/s eta 0:00:01\n",
      "   ------------------------------------ --- 8.9/9.8 MB 1.6 MB/s eta 0:00:01\n",
      "   ------------------------------------ --- 9.0/9.8 MB 1.6 MB/s eta 0:00:01\n",
      "   ------------------------------------- -- 9.1/9.8 MB 1.6 MB/s eta 0:00:01\n",
      "   ------------------------------------- -- 9.1/9.8 MB 1.6 MB/s eta 0:00:01\n",
      "   ------------------------------------- -- 9.2/9.8 MB 1.6 MB/s eta 0:00:01\n",
      "   -------------------------------------- - 9.3/9.8 MB 1.6 MB/s eta 0:00:01\n",
      "   -------------------------------------- - 9.4/9.8 MB 1.6 MB/s eta 0:00:01\n",
      "   -------------------------------------- - 9.5/9.8 MB 1.6 MB/s eta 0:00:01\n",
      "   -------------------------------------- - 9.6/9.8 MB 1.6 MB/s eta 0:00:01\n",
      "   ---------------------------------------  9.7/9.8 MB 1.6 MB/s eta 0:00:01\n",
      "   ---------------------------------------  9.7/9.8 MB 1.6 MB/s eta 0:00:01\n",
      "   ---------------------------------------  9.7/9.8 MB 1.6 MB/s eta 0:00:01\n",
      "   ---------------------------------------  9.8/9.8 MB 1.6 MB/s eta 0:00:01\n",
      "   ---------------------------------------  9.8/9.8 MB 1.6 MB/s eta 0:00:01\n",
      "   ---------------------------------------- 9.8/9.8 MB 1.6 MB/s eta 0:00:00\n",
      "Downloading patsy-0.5.6-py2.py3-none-any.whl (233 kB)\n",
      "   ---------------------------------------- 0.0/233.9 kB ? eta -:--:--\n",
      "   ---------------------------------------- 0.0/233.9 kB ? eta -:--:--\n",
      "   ---------------------------------------- 0.0/233.9 kB ? eta -:--:--\n",
      "   - -------------------------------------- 10.2/233.9 kB ? eta -:--:--\n",
      "   - -------------------------------------- 10.2/233.9 kB ? eta -:--:--\n",
      "   ----- --------------------------------- 30.7/233.9 kB 217.9 kB/s eta 0:00:01\n",
      "   ------ -------------------------------- 41.0/233.9 kB 217.9 kB/s eta 0:00:01\n",
      "   ---------- ---------------------------- 61.4/233.9 kB 252.2 kB/s eta 0:00:01\n",
      "   --------------- ----------------------- 92.2/233.9 kB 308.0 kB/s eta 0:00:01\n",
      "   ----------------------- -------------- 143.4/233.9 kB 425.3 kB/s eta 0:00:01\n",
      "   ------------------------------------ - 225.3/233.9 kB 599.0 kB/s eta 0:00:01\n",
      "   -------------------------------------- 233.9/233.9 kB 596.5 kB/s eta 0:00:00\n",
      "Installing collected packages: patsy, statsmodels\n",
      "Successfully installed patsy-0.5.6 statsmodels-0.14.2\n",
      "Note: you may need to restart the kernel to use updated packages.\n"
     ]
    },
    {
     "name": "stderr",
     "output_type": "stream",
     "text": [
      "\n",
      "[notice] A new release of pip is available: 24.1.2 -> 24.2\n",
      "[notice] To update, run: python.exe -m pip install --upgrade pip\n"
     ]
    }
   ],
   "source": [
    "pip install statsmodels"
   ]
  },
  {
   "cell_type": "markdown",
   "metadata": {},
   "source": [
    "3. Predictive Modeling for Profit Increase\n",
    "3.1 Time Series Forecasting (if applicable)\n",
    "Use a time series model (like ARIMA) to predict future sales/profits."
   ]
  },
  {
   "cell_type": "code",
   "execution_count": 17,
   "metadata": {},
   "outputs": [
    {
     "ename": "NotImplementedError",
     "evalue": "\nstatsmodels.tsa.arima_model.ARMA and statsmodels.tsa.arima_model.ARIMA have\nbeen removed in favor of statsmodels.tsa.arima.model.ARIMA (note the .\nbetween arima and model) and statsmodels.tsa.SARIMAX.\n\nstatsmodels.tsa.arima.model.ARIMA makes use of the statespace framework and\nis both well tested and maintained. It also offers alternative specialized\nparameter estimators.\n",
     "output_type": "error",
     "traceback": [
      "\u001b[1;31m---------------------------------------------------------------------------\u001b[0m",
      "\u001b[1;31mNotImplementedError\u001b[0m                       Traceback (most recent call last)",
      "Cell \u001b[1;32mIn[17], line 8\u001b[0m\n\u001b[0;32m      5\u001b[0m product_sales \u001b[38;5;241m=\u001b[39m merged_with_cost[merged_with_cost[\u001b[38;5;124m'\u001b[39m\u001b[38;5;124mproduct_id\u001b[39m\u001b[38;5;124m'\u001b[39m] \u001b[38;5;241m==\u001b[39m \u001b[38;5;241m1\u001b[39m]\u001b[38;5;241m.\u001b[39mgroupby(\u001b[38;5;124m'\u001b[39m\u001b[38;5;124mtransaction_date\u001b[39m\u001b[38;5;124m'\u001b[39m)[\u001b[38;5;124m'\u001b[39m\u001b[38;5;124munit_price\u001b[39m\u001b[38;5;124m'\u001b[39m]\u001b[38;5;241m.\u001b[39msum()\n\u001b[0;32m      7\u001b[0m \u001b[38;5;66;03m# Fit the model\u001b[39;00m\n\u001b[1;32m----> 8\u001b[0m model \u001b[38;5;241m=\u001b[39m \u001b[43mARIMA\u001b[49m\u001b[43m(\u001b[49m\u001b[43mproduct_sales\u001b[49m\u001b[43m,\u001b[49m\u001b[43m \u001b[49m\u001b[43morder\u001b[49m\u001b[38;5;241;43m=\u001b[39;49m\u001b[43m(\u001b[49m\u001b[38;5;241;43m5\u001b[39;49m\u001b[43m,\u001b[49m\u001b[38;5;241;43m1\u001b[39;49m\u001b[43m,\u001b[49m\u001b[38;5;241;43m0\u001b[39;49m\u001b[43m)\u001b[49m\u001b[43m)\u001b[49m\n\u001b[0;32m      9\u001b[0m model_fit \u001b[38;5;241m=\u001b[39m model\u001b[38;5;241m.\u001b[39mfit(disp\u001b[38;5;241m=\u001b[39m\u001b[38;5;241m0\u001b[39m)\n\u001b[0;32m     11\u001b[0m \u001b[38;5;66;03m# Forecast the next 10 days\u001b[39;00m\n",
      "File \u001b[1;32mc:\\Users\\Sadaf\\AppData\\Local\\pypoetry\\Cache\\virtualenvs\\app-VssnZIaO-py3.12\\Lib\\site-packages\\statsmodels\\tsa\\arima_model.py:45\u001b[0m, in \u001b[0;36mARIMA.__init__\u001b[1;34m(self, *args, **kwargs)\u001b[0m\n\u001b[0;32m     44\u001b[0m \u001b[38;5;28;01mdef\u001b[39;00m \u001b[38;5;21m__init__\u001b[39m(\u001b[38;5;28mself\u001b[39m, \u001b[38;5;241m*\u001b[39margs, \u001b[38;5;241m*\u001b[39m\u001b[38;5;241m*\u001b[39mkwargs):\n\u001b[1;32m---> 45\u001b[0m     \u001b[38;5;28;43msuper\u001b[39;49m\u001b[43m(\u001b[49m\u001b[43m)\u001b[49m\u001b[38;5;241;43m.\u001b[39;49m\u001b[38;5;21;43m__init__\u001b[39;49m\u001b[43m(\u001b[49m\u001b[38;5;241;43m*\u001b[39;49m\u001b[43margs\u001b[49m\u001b[43m,\u001b[49m\u001b[43m \u001b[49m\u001b[38;5;241;43m*\u001b[39;49m\u001b[38;5;241;43m*\u001b[39;49m\u001b[43mkwargs\u001b[49m\u001b[43m)\u001b[49m\n",
      "File \u001b[1;32mc:\\Users\\Sadaf\\AppData\\Local\\pypoetry\\Cache\\virtualenvs\\app-VssnZIaO-py3.12\\Lib\\site-packages\\statsmodels\\tsa\\arima_model.py:29\u001b[0m, in \u001b[0;36mARMA.__init__\u001b[1;34m(self, *args, **kwargs)\u001b[0m\n\u001b[0;32m     28\u001b[0m \u001b[38;5;28;01mdef\u001b[39;00m \u001b[38;5;21m__init__\u001b[39m(\u001b[38;5;28mself\u001b[39m, \u001b[38;5;241m*\u001b[39margs, \u001b[38;5;241m*\u001b[39m\u001b[38;5;241m*\u001b[39mkwargs):\n\u001b[1;32m---> 29\u001b[0m     \u001b[38;5;28;01mraise\u001b[39;00m \u001b[38;5;167;01mNotImplementedError\u001b[39;00m(ARIMA_DEPRECATION_ERROR)\n",
      "\u001b[1;31mNotImplementedError\u001b[0m: \nstatsmodels.tsa.arima_model.ARMA and statsmodels.tsa.arima_model.ARIMA have\nbeen removed in favor of statsmodels.tsa.arima.model.ARIMA (note the .\nbetween arima and model) and statsmodels.tsa.SARIMAX.\n\nstatsmodels.tsa.arima.model.ARIMA makes use of the statespace framework and\nis both well tested and maintained. It also offers alternative specialized\nparameter estimators.\n"
     ]
    }
   ],
   "source": [
    "from statsmodels.tsa.arima_model import ARIMA\n",
    "import numpy as np\n",
    "\n",
    "# Example: Using the sales data to predict future sales for a specific product\n",
    "product_sales = merged_with_cost[merged_with_cost['product_id'] == 1].groupby('transaction_date')['unit_price'].sum()\n",
    "\n",
    "# Fit the model\n",
    "model = ARIMA(product_sales, order=(5,1,0))\n",
    "model_fit = model.fit(disp=0)\n",
    "\n",
    "# Forecast the next 10 days\n",
    "forecast = model_fit.forecast(steps=10)[0]\n",
    "\n",
    "forecast\n"
   ]
  }
 ],
 "metadata": {
  "kernelspec": {
   "display_name": "app-VssnZIaO-py3.12",
   "language": "python",
   "name": "python3"
  },
  "language_info": {
   "codemirror_mode": {
    "name": "ipython",
    "version": 3
   },
   "file_extension": ".py",
   "mimetype": "text/x-python",
   "name": "python",
   "nbconvert_exporter": "python",
   "pygments_lexer": "ipython3",
   "version": "3.12.2"
  }
 },
 "nbformat": 4,
 "nbformat_minor": 2
}
